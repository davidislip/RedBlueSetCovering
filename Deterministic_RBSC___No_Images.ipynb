{
  "cells": [
    {
      "cell_type": "markdown",
      "metadata": {
        "id": "view-in-github",
        "colab_type": "text"
      },
      "source": [
        "<a href=\"https://colab.research.google.com/github/davidislip/RedBlueSetCovering/blob/main/Deterministic_RBSC___No_Images.ipynb\" target=\"_parent\"><img src=\"https://colab.research.google.com/assets/colab-badge.svg\" alt=\"Open In Colab\"/></a>"
      ]
    },
    {
      "cell_type": "markdown",
      "metadata": {
        "id": "UFwIs9MvTnwI"
      },
      "source": [
        "# Stochastic Red Blue Set Covering \n",
        "\n",
        "### Deterministic Approximation Algorithms Implementation\n",
        "\n",
        "* Step 1: a function that generates instances of the red-blue set covering \n",
        "\n",
        "* Step 2: Carr et. al. Approximation Algorithm \n",
        "\n",
        "* Step 3: Peleg. Approximation Algorithm \n"
      ]
    },
    {
      "cell_type": "code",
      "execution_count": 1,
      "metadata": {
        "colab": {
          "base_uri": "https://localhost:8080/"
        },
        "id": "l3fEvFDq6PgZ",
        "outputId": "05e9de6a-e089-465f-88d2-d40d77f51438"
      },
      "outputs": [
        {
          "output_type": "stream",
          "name": "stdout",
          "text": [
            "Collecting gurobipy==9.1.2\n",
            "  Downloading gurobipy-9.1.2-cp37-cp37m-manylinux1_x86_64.whl (11.1 MB)\n",
            "\u001b[K     |████████████████████████████████| 11.1 MB 7.1 MB/s \n",
            "\u001b[?25hInstalling collected packages: gurobipy\n",
            "Successfully installed gurobipy-9.1.2\n",
            "Collecting netgraph\n",
            "  Downloading netgraph-4.2.3.tar.gz (70 kB)\n",
            "\u001b[K     |████████████████████████████████| 70 kB 712 kB/s \n",
            "\u001b[?25hRequirement already satisfied: numpy in /usr/local/lib/python3.7/dist-packages (from netgraph) (1.21.5)\n",
            "Requirement already satisfied: matplotlib in /usr/local/lib/python3.7/dist-packages (from netgraph) (3.2.2)\n",
            "Requirement already satisfied: scipy in /usr/local/lib/python3.7/dist-packages (from netgraph) (1.4.1)\n",
            "Collecting rectangle-packer\n",
            "  Downloading rectangle_packer-2.0.1-cp37-cp37m-manylinux2010_x86_64.whl (246 kB)\n",
            "\u001b[K     |████████████████████████████████| 246 kB 4.9 MB/s \n",
            "\u001b[?25hCollecting grandalf\n",
            "  Downloading grandalf-0.7-py3-none-any.whl (41 kB)\n",
            "\u001b[K     |████████████████████████████████| 41 kB 372 kB/s \n",
            "\u001b[?25hRequirement already satisfied: pyparsing in /usr/local/lib/python3.7/dist-packages (from grandalf->netgraph) (3.0.7)\n",
            "Requirement already satisfied: kiwisolver>=1.0.1 in /usr/local/lib/python3.7/dist-packages (from matplotlib->netgraph) (1.3.2)\n",
            "Requirement already satisfied: python-dateutil>=2.1 in /usr/local/lib/python3.7/dist-packages (from matplotlib->netgraph) (2.8.2)\n",
            "Requirement already satisfied: cycler>=0.10 in /usr/local/lib/python3.7/dist-packages (from matplotlib->netgraph) (0.11.0)\n",
            "Requirement already satisfied: six>=1.5 in /usr/local/lib/python3.7/dist-packages (from python-dateutil>=2.1->matplotlib->netgraph) (1.15.0)\n",
            "Building wheels for collected packages: netgraph\n",
            "  Building wheel for netgraph (setup.py) ... \u001b[?25l\u001b[?25hdone\n",
            "  Created wheel for netgraph: filename=netgraph-4.2.3-py3-none-any.whl size=74603 sha256=d73545f80f7913244fa2fb1ad4d7aa6158961437ecdabb7a78bd83166198dc98\n",
            "  Stored in directory: /root/.cache/pip/wheels/63/be/5c/05368b611626532396b3c12b0cb612141fbb5215249de83bc8\n",
            "Successfully built netgraph\n",
            "Installing collected packages: rectangle-packer, grandalf, netgraph\n",
            "Successfully installed grandalf-0.7 netgraph-4.2.3 rectangle-packer-2.0.1\n",
            "Mounted at /content/gdrive\n"
          ]
        }
      ],
      "source": [
        "!sudo python -m pip install gurobipy==9.1.2\n",
        "!pip install netgraph\n",
        "import gurobipy as gp\n",
        "import pandas as pd\n",
        "import numpy as np\n",
        "from gurobipy import GRB\n",
        "from google.colab import drive \n",
        "from itertools import product\n",
        "import math, sys, time\n",
        "from netgraph import Graph, InteractiveGraph, EditableGraph\n",
        "import matplotlib.pyplot as plt\n",
        "drive.mount('/content/gdrive')\n",
        "pth = 'gdrive/My Drive/Colab Notebooks/'\n",
        "sys.path.append(pth + 'RBSC/')\n",
        "%matplotlib inline"
      ]
    },
    {
      "cell_type": "code",
      "execution_count": 2,
      "metadata": {
        "colab": {
          "base_uri": "https://localhost:8080/"
        },
        "id": "knc5ipCyNDrK",
        "outputId": "fd67ecf0-36b6-4568-9ecd-ef3e2e3e19a1"
      },
      "outputs": [
        {
          "output_type": "stream",
          "name": "stdout",
          "text": [
            "Required info for Gurobi: Index(['WLSACCESSID', 'LICENSEID', 'WLSSECRET', 'LOCAL'], dtype='object')\n",
            "Changed value of parameter WLSACCESSID\n",
            "Changed value of parameter LICENSEID\n",
            "Changed value of parameter WLSSECRET\n",
            "info  : grbgetkey version 9.1.2, build v9.1.1rc0-30-g8af970cb\n",
            "info  : Contacting Gurobi license server...\n",
            "info  : License file for license ID 726785 was successfully retrieved\n",
            "info  : License expires at the end of the day on 2022-03-20\n",
            "info  : Saving license file...\n",
            "\n",
            "In which directory would you like to store the Gurobi license file?\n",
            "[hit Enter to store it in /opt/gurobi]: \n",
            "\n",
            "info  : License 726785 written to file /opt/gurobi/gurobi.lic\n",
            "\n",
            "--------------------------------------------\n",
            "Warning: your license will expire in 9 days\n",
            "--------------------------------------------\n",
            "\n",
            "Academic license - for non-commercial use only - expires 2022-03-20\n",
            "Using license file /opt/gurobi/gurobi.lic\n"
          ]
        }
      ],
      "source": [
        "#read in licence info\n",
        "gurobi_licence = pd.read_csv(pth +'RBSC/gurobi.csv')\n",
        "print(\"Required info for Gurobi:\", gurobi_licence.columns)\n",
        "try:\n",
        "  #web license try to access it via uoft\n",
        "  e = gp.Env(empty=True)\n",
        "  #e.setParam('OutputFlag', 0)\n",
        "  e.setParam('WLSACCESSID', gurobi_licence.WLSACCESSID[0])\n",
        "  e.setParam('LICENSEID', gurobi_licence.LICENSEID[0])\n",
        "  e.setParam('WLSSECRET', gurobi_licence.WLSSECRET[0])\n",
        "  e.start()\n",
        "except: \n",
        "  !chmod 755 /content/gdrive/My\\ Drive/Colab\\ Notebooks/SVM\\ MVO/gurobi/grbgetkey\n",
        "  !/content/gdrive/My\\ Drive/Colab\\ Notebooks/SVM\\ MVO/gurobi/grbgetkey {gurobi_licence.LOCAL[0]}\n",
        "  e = gp.Env(empty=True)\n",
        "  #chmod 755 grbgetkey\n",
        "  e.start()"
      ]
    },
    {
      "cell_type": "code",
      "execution_count": 100,
      "metadata": {
        "id": "d9SSWnjsckQ6"
      },
      "outputs": [],
      "source": [
        "import networkx as nx\n",
        "import random\n",
        "N = 15 #number of sets \n",
        "rho = 40 #number of reds\n",
        "beta = 5 #number of blue \n",
        "CoverFactor = 1 \n",
        "l = 2 #scaling factor for plots \n",
        "\n",
        "#generate N sets such all the blues are contained in at least one set \n",
        "\n",
        "Reds = {i:'R' for i in range(rho)}\n",
        "Blues = {i:'B' for i in range(rho, rho+beta)}\n",
        "Elements = {**Reds, **Blues}\n",
        "Sets = {}"
      ]
    },
    {
      "cell_type": "code",
      "execution_count": 101,
      "metadata": {
        "id": "xx4lQqFLeCed"
      },
      "outputs": [],
      "source": [
        "k = 0\n",
        "UncoveredBlues = [b for b in Blues.keys()]\n",
        "#randomly sample until all the blues are covered \n",
        "while (k < N or UncoveredBlues != []):\n",
        "  n_k = random.sample(range(1,len(Elements)//CoverFactor),1)[0]\n",
        "  DoesNotCoverAnyBlue = True\n",
        "  while DoesNotCoverAnyBlue:\n",
        "    SetCandidate = random.sample(list(Elements.keys()), n_k)\n",
        "    BlueCoveredBool = [b in SetCandidate for b in Blues.keys()]\n",
        "    if True in BlueCoveredBool:\n",
        "      DoesNotCoverAnyBlue = False\n",
        "  if UncoveredBlues == []:\n",
        "    ind = 'Set' + str(k)\n",
        "    Sets[ind] = SetCandidate\n",
        "    k = k+1\n",
        "\n",
        "  CoversNewBlue = False\n",
        "  for element in Blues.keys():\n",
        "    if element in SetCandidate and element in UncoveredBlues:\n",
        "      UncoveredBlues.remove(element)\n",
        "      CoversNewBlue = True\n",
        "  if CoversNewBlue:\n",
        "    ind = 'Set' + str(k)\n",
        "    Sets[ind] = SetCandidate\n",
        "    k = k+1\n"
      ]
    },
    {
      "cell_type": "code",
      "execution_count": 102,
      "metadata": {
        "colab": {
          "base_uri": "https://localhost:8080/"
        },
        "id": "N_DcsLNregzp",
        "outputId": "d3afdab8-1a48-42a3-b245-5a1f4f768fbb"
      },
      "outputs": [
        {
          "output_type": "execute_result",
          "data": {
            "text/plain": [
              "15"
            ]
          },
          "metadata": {},
          "execution_count": 102
        }
      ],
      "source": [
        "#number of sets generated in this instance\n",
        "len(Sets)"
      ]
    },
    {
      "cell_type": "code",
      "execution_count": 103,
      "metadata": {
        "id": "TT4Dm3uvsU2B"
      },
      "outputs": [],
      "source": [
        "#testing \n",
        "Test = set()\n",
        "for Set in Sets.values():\n",
        "  Test = Test.union(set(Set))\n",
        "for b in [e for e in Elements.keys() if Elements[e] == 'B']:\n",
        "  if b not in Test:\n",
        "    print(\"Error Blue element missing\")"
      ]
    },
    {
      "cell_type": "code",
      "execution_count": 104,
      "metadata": {
        "id": "zHqGtzDss5wm"
      },
      "outputs": [],
      "source": [
        "#assign the final set as set that covers all elements\n",
        "#Sets['SetTotal'] = list(Elements.keys())"
      ]
    },
    {
      "cell_type": "markdown",
      "metadata": {
        "id": "C88v8-ut6t-w"
      },
      "source": [
        "### Direct Implementation \n",
        "\n",
        "$$\n",
        "\\begin{equation}\n",
        "\\begin{aligned}\n",
        "\\underset{x,y}{\\min}& \\sum_{r\\in R} y_r &\\\\\n",
        "\\text{s.t} \\quad y_r &\\geq x_S &\\forall (r,S): r \\in S \\cap R \\\\\n",
        "\\sum_{S \\ni b} x_S &\\geq 1 &\\forall b \\in B\\\\\n",
        "x_S \\in \\{0,1\\}&,\\  y_r \\geq 0\n",
        "\\end{aligned}\n",
        "\\end{equation}\n",
        "$$\n",
        "\n"
      ]
    },
    {
      "cell_type": "code",
      "execution_count": 105,
      "metadata": {
        "colab": {
          "base_uri": "https://localhost:8080/"
        },
        "id": "LmIHPrJuCXsp",
        "outputId": "516fc52a-8655-425b-8855-d6de3fc53247"
      },
      "outputs": [
        {
          "output_type": "stream",
          "name": "stdout",
          "text": [
            "Gurobi Optimizer version 9.1.2 build v9.1.2rc0 (linux64)\n",
            "Thread count: 1 physical cores, 2 logical processors, using up to 2 threads\n",
            "Optimize a model with 300 rows, 55 columns and 629 nonzeros\n",
            "Model fingerprint: 0x51f1ce97\n",
            "Variable types: 40 continuous, 15 integer (15 binary)\n",
            "Coefficient statistics:\n",
            "  Matrix range     [1e+00, 1e+00]\n",
            "  Objective range  [1e+00, 1e+00]\n",
            "  Bounds range     [1e+00, 1e+00]\n",
            "  RHS range        [1e+00, 1e+00]\n",
            "Found heuristic solution: objective 34.0000000\n",
            "Presolve removed 147 rows and 13 columns\n",
            "Presolve time: 0.01s\n",
            "Presolved: 153 rows, 42 columns, 319 nonzeros\n",
            "Variable types: 0 continuous, 42 integer (42 binary)\n",
            "\n",
            "Root relaxation: objective 1.750000e+01, 59 iterations, 0.00 seconds\n",
            "\n",
            "    Nodes    |    Current Node    |     Objective Bounds      |     Work\n",
            " Expl Unexpl |  Obj  Depth IntInf | Incumbent    BestBd   Gap | It/Node Time\n",
            "\n",
            "     0     0   20.25000    0   35   34.00000   20.25000  40.4%     -    0s\n",
            "H    0     0                      23.0000000   20.25000  12.0%     -    0s\n",
            "     0     0     cutoff    0        23.00000   23.00000  0.00%     -    0s\n",
            "\n",
            "Cutting planes:\n",
            "  Gomory: 2\n",
            "  Clique: 1\n",
            "  RLT: 1\n",
            "\n",
            "Explored 1 nodes (90 simplex iterations) in 0.05 seconds\n",
            "Thread count was 2 (of 2 available processors)\n",
            "\n",
            "Solution count 2: 23 34 \n",
            "\n",
            "Optimal solution found (tolerance 1.00e-04)\n",
            "Best objective 2.300000000000e+01, best bound 2.300000000000e+01, gap 0.0000%\n"
          ]
        }
      ],
      "source": [
        "def DeterministicRedBlue(Reds, Blues, Sets):\n",
        "  '''\n",
        "  Direct implementation of the deterministic red blue set covering problem\n",
        "  '''\n",
        "  m = gp.Model()\n",
        "  x = m.addVars(Sets.keys(), vtype = GRB.BINARY)\n",
        "  y = m.addVars(Reds.keys(), vtype = GRB.CONTINUOUS, lb = 0)\n",
        "\n",
        "  m.setObjective(y.sum(), GRB.MINIMIZE)\n",
        "\n",
        "  # for r in Reds.keys():\n",
        "  #   m.addConstrs((y[r] >= x[S] for S in Sets.keys() if r in Sets[S]))\n",
        "\n",
        "  for S in Sets.keys():\n",
        "    m.addConstrs((y[r] >= x[S] for r in set(Sets[S]).intersection(set(Reds.keys()))))\n",
        "  for b in Blues.keys():\n",
        "    m.addConstr(gp.quicksum(x[S] for S in \\\n",
        "                            {Set for Set in Sets.keys() if b in Sets[Set]})\\\n",
        "                >= 1)\n",
        "  m.optimize()\n",
        "  #gety\n",
        "  SelectedReds = [r for r in y.keys() if y[r].x > 0.5]\n",
        "  #getx\n",
        "  SelectedSets = [s for s in x.keys() if x[s].x > 0.5]  \n",
        "\n",
        "  SolnEdgestoBlue = [(b,S) for S in SelectedSets for b in set(Sets[S]).intersection(set(Blues.keys()))]\n",
        "  SolnEdgestoRed = [(r,S) for S in SelectedSets for r in set(Sets[S]).intersection(set(Reds.keys()))]\n",
        "  SolnEdges = SolnEdgestoBlue+SolnEdgestoRed\n",
        "  return SelectedReds, SelectedSets, SolnEdges\n",
        "\n",
        "SelectedReds, SelectedSets, SolnEdges = DeterministicRedBlue(Reds, Blues, Sets)"
      ]
    },
    {
      "cell_type": "markdown",
      "metadata": {
        "id": "K6pKOHqR_iGB"
      },
      "source": [
        "### Convert the problem to one where each set has only one blue element\n",
        "\n",
        "* In this case the follow constraint is valid for a minimal solution: $y_r \\geq \\sum_{S \\ni {r,b}} x_S \\quad \\forall (r,b) \\in R \\times B$ \n",
        "\n",
        "* In the case that there are multiple sets covering $b$ then all but one of the sets can be discarded at non excess cost. \n",
        "\n",
        "* Another inequality is added to ensure that the approximation algorithm guarantees and $2 \\sqrt{n k}$ bound where $ k = \\max_{i} |S_i \\cap B|$: For $b \\in B$, let $\\mu_b = \\min_{S \\ni b} |S \\cap R|$ then it follows that: \n",
        "\n",
        "$$\n",
        "\\begin{equation}\n",
        "\\sum_{r \\in R} y_r \\geq \\mu_b \\quad \\forall b \\in B\n",
        "\\end{equation}\n",
        "$$"
      ]
    },
    {
      "cell_type": "code",
      "execution_count": 106,
      "metadata": {
        "id": "Sl39nwMLDiGC"
      },
      "outputs": [],
      "source": [
        "### problem augmentation\n",
        "\n",
        "def FormAugmentedProblem(Reds, Blues, Sets):\n",
        "  '''\n",
        "  Perform the set transformation in Carr et. al.\n",
        "  '''\n",
        "  AugmentedSets = {}\n",
        "  k = 0\n",
        "  for S in Sets.keys():\n",
        "    if len(set(Blues.keys()).intersection(Sets[S])) > 1:\n",
        "      RedsInS = set(Reds.keys()).intersection(Sets[S])\n",
        "      for b in set(Blues.keys()).intersection(Sets[S]):\n",
        "        AugmentedSets['Set'+str(k)] = list(RedsInS) + [b]\n",
        "        k  =k+1\n",
        "    else:\n",
        "        AugmentedSets['Set'+str(k)] = Sets[S]\n",
        "    k = k+1\n",
        "  return AugmentedSets\n",
        "AugmentedSets = FormAugmentedProblem(Reds, Blues, Sets)\n",
        "AugmentedGraph = nx.Graph()\n",
        "AugmentedGraph.add_nodes_from(Elements)\n",
        "AugmentedGraph.add_nodes_from({S:\"Set\" for S in AugmentedSets.keys()})\n",
        "AugmentedGraph.add_edges_from([(Elem, S) for S in AugmentedSets.keys() for Elem in AugmentedSets[S]]) #element then set "
      ]
    },
    {
      "cell_type": "code",
      "execution_count": 107,
      "metadata": {
        "colab": {
          "base_uri": "https://localhost:8080/"
        },
        "id": "SJ3GjqEifi6f",
        "outputId": "de006c84-97d8-43bb-f545-b76548c935aa"
      },
      "outputs": [
        {
          "output_type": "stream",
          "name": "stdout",
          "text": [
            "Gurobi Optimizer version 9.1.2 build v9.1.2rc0 (linux64)\n",
            "Thread count: 1 physical cores, 2 logical processors, using up to 2 threads\n",
            "Optimize a model with 1108 rows, 79 columns and 3133 nonzeros\n",
            "Model fingerprint: 0xdc73612e\n",
            "Variable types: 40 continuous, 39 integer (39 binary)\n",
            "Coefficient statistics:\n",
            "  Matrix range     [1e+00, 1e+00]\n",
            "  Objective range  [1e+00, 1e+00]\n",
            "  Bounds range     [1e+00, 1e+00]\n",
            "  RHS range        [1e+00, 2e+01]\n",
            "Found heuristic solution: objective 40.0000000\n",
            "Presolve removed 877 rows and 11 columns\n",
            "Presolve time: 0.01s\n",
            "Presolved: 231 rows, 68 columns, 895 nonzeros\n",
            "Variable types: 38 continuous, 30 integer (30 binary)\n",
            "\n",
            "Root relaxation: objective 2.300000e+01, 67 iterations, 0.00 seconds\n",
            "\n",
            "    Nodes    |    Current Node    |     Objective Bounds      |     Work\n",
            " Expl Unexpl |  Obj  Depth IntInf | Incumbent    BestBd   Gap | It/Node Time\n",
            "\n",
            "*    0     0               0      23.0000000   23.00000  0.00%     -    0s\n",
            "\n",
            "Explored 0 nodes (67 simplex iterations) in 0.06 seconds\n",
            "Thread count was 2 (of 2 available processors)\n",
            "\n",
            "Solution count 2: 23 40 \n",
            "\n",
            "Optimal solution found (tolerance 1.00e-04)\n",
            "Best objective 2.300000000000e+01, best bound 2.300000000000e+01, gap 0.0000%\n"
          ]
        }
      ],
      "source": [
        "def DeterministicRedBlueAugmented(Reds, Blues, AugmentedSets, Relax = False):\n",
        "  ### Solving the augmented model\n",
        "  m = gp.Model()\n",
        "  if Relax:\n",
        "    x = m.addVars(AugmentedSets.keys(), vtype = GRB.CONTINUOUS, lb = 0, ub = 1)\n",
        "  else:\n",
        "    x = m.addVars(AugmentedSets.keys(), vtype = GRB.BINARY)\n",
        "  y = m.addVars(Reds.keys(), vtype = GRB.CONTINUOUS, lb = 0)\n",
        "\n",
        "  m.setObjective(y.sum(), GRB.MINIMIZE)\n",
        "\n",
        "  for b in Blues.keys():\n",
        "    #reds that are in sets that contain b \n",
        "    RedsinSContainsb = [set(AugmentedSets[S]).intersection(set(Reds.keys())) for S in AugmentedSets.keys() if b in AugmentedSets[S]]\n",
        "    mu_b = min([len(Sb) for Sb in RedsinSContainsb])\n",
        "    m.addConstr(y.sum() >= mu_b)\n",
        "    \n",
        "  for (r, b) in product(Reds.keys(), Blues.keys()):\n",
        "    #sets containing r and b \n",
        "    SetsContainingRandB = {S for S in AugmentedSets.keys() if (r in AugmentedSets[S] and b in AugmentedSets[S])}\n",
        "    if SetsContainingRandB != set():\n",
        "      m.addConstr(y[r] >= gp.quicksum(x[S] for S in SetsContainingRandB))\n",
        "\n",
        "\n",
        "  for S in AugmentedSets.keys():\n",
        "    m.addConstrs((y[r] >= x[S] for r in set(AugmentedSets[S]).intersection(set(Reds.keys()))))\n",
        "\n",
        "\n",
        "  for b in Blues.keys():\n",
        "    m.addConstr(gp.quicksum(x[S] for S in \\\n",
        "                            {Set for Set in AugmentedSets.keys() if b in AugmentedSets[Set]})\\\n",
        "                >= 1)\n",
        "  m.optimize()\n",
        "  #gety\n",
        "  SelectedReds = [r for r in y.keys() if y[r].x > 0.5]\n",
        "  #getx\n",
        "  SelectedAugSets = [s for s in x.keys() if x[s].x > 0.5]  \n",
        "\n",
        "  SolnEdgestoBlue = [(b,S) for S in SelectedAugSets for b in set(AugmentedSets[S]).intersection(set(Blues.keys()))]\n",
        "  SolnEdgestoRed = [(r,S) for S in SelectedAugSets for r in set(AugmentedSets[S]).intersection(set(Reds.keys()))]\n",
        "  SolnEdges = SolnEdgestoBlue+SolnEdgestoRed\n",
        "  vals_y = {r:y[r].x for r in y.keys()}\n",
        "  vals_x = {S:x[S].x for S in x.keys()}\n",
        "  return SelectedReds, SelectedAugSets, SolnEdges, vals_y, vals_x\n",
        "SelectedReds, SelectedAugSets, SolnEdges, vals_y, vals_x = DeterministicRedBlueAugmented(Reds, Blues, AugmentedSets)"
      ]
    },
    {
      "cell_type": "code",
      "execution_count": 108,
      "metadata": {
        "colab": {
          "base_uri": "https://localhost:8080/"
        },
        "id": "HETg4Fhcn_Ba",
        "outputId": "7573a478-5158-48ef-c191-55bd99467b83"
      },
      "outputs": [
        {
          "output_type": "stream",
          "name": "stdout",
          "text": [
            "Gurobi Optimizer version 9.1.2 build v9.1.2rc0 (linux64)\n",
            "Thread count: 1 physical cores, 2 logical processors, using up to 2 threads\n",
            "Optimize a model with 1108 rows, 79 columns and 3133 nonzeros\n",
            "Model fingerprint: 0x026d0590\n",
            "Coefficient statistics:\n",
            "  Matrix range     [1e+00, 1e+00]\n",
            "  Objective range  [1e+00, 1e+00]\n",
            "  Bounds range     [1e+00, 1e+00]\n",
            "  RHS range        [1e+00, 2e+01]\n",
            "Presolve removed 4 rows and 0 columns\n",
            "Presolve time: 0.03s\n",
            "Presolved: 1104 rows, 79 columns, 2973 nonzeros\n",
            "\n",
            "Iteration    Objective       Primal Inf.    Dual Inf.      Time\n",
            "       0    0.0000000e+00   2.300000e+01   0.000000e+00      0s\n",
            "      79    2.3000000e+01   0.000000e+00   0.000000e+00      0s\n",
            "\n",
            "Solved in 79 iterations and 0.04 seconds\n",
            "Optimal objective  2.300000000e+01\n"
          ]
        }
      ],
      "source": [
        "SelectedReds, SelectedAugSets, SolnEdges, vals_y, vals_x = DeterministicRedBlueAugmented(Reds, Blues, AugmentedSets, Relax = True)"
      ]
    },
    {
      "cell_type": "code",
      "execution_count": 109,
      "metadata": {
        "colab": {
          "base_uri": "https://localhost:8080/"
        },
        "id": "UjP4g_3aydXX",
        "outputId": "bd0d81ee-5b77-4f2f-d8d1-0226315868c1"
      },
      "outputs": [
        {
          "output_type": "stream",
          "name": "stdout",
          "text": [
            "Number of reds covered:  25\n"
          ]
        }
      ],
      "source": [
        "#### Processing the LP solution \n",
        "def CarrApproximationAlgorithm(Reds, Blues, AugmentedSets, vals_y):\n",
        "  GoodBlues = set()\n",
        "  BadBlues = set()\n",
        "  n = len(AugmentedSets)\n",
        "  for b in Blues.keys():\n",
        "    SetsContainingb = [S for S in AugmentedSets.keys() if b in AugmentedSets[S]]\n",
        "    if len(SetsContainingb) > n**(0.5) + 0.0001:\n",
        "      BadBlues.add(b)\n",
        "    else:\n",
        "      GoodBlues.add(b)\n",
        "  yAug = {}\n",
        "  for r in vals_y.keys():\n",
        "    yAug[r] = math.floor(vals_y[r]*(n**0.5))\n",
        "    if yAug[r] > 0.5:\n",
        "      yAug[r] = 1\n",
        "  SelectedRedsPhase1 = {r for r in yAug.keys() if yAug[r] > 0.5}\n",
        "  SelectedAugSetsPhase1  = set()\n",
        "  for S in AugmentedSets.keys():\n",
        "    #if the reds in a set are a subset of the phase1 reds\n",
        "    RedsinS = set(AugmentedSets[S]).intersection(set(Reds.keys()))\n",
        "    if RedsinS.issubset(SelectedRedsPhase1):\n",
        "      SelectedAugSetsPhase1.add(S)\n",
        "\n",
        "  SelectedRedsPhase2 = set() \n",
        "  SelectedAugSetsPhase2  = set()\n",
        "  for b in BadBlues:\n",
        "    best = None\n",
        "    best_size = rho\n",
        "    for S in [Set for Set in AugmentedSets.keys() if (b in AugmentedSets[S])]:\n",
        "        RedsinS = set(AugmentedSets[S]).intersection(set(Reds.keys()))\n",
        "        if len(RedsinS) < best_size:\n",
        "          best = S\n",
        "          best_size = len(RedsinS)\n",
        "\n",
        "    if best != None:\n",
        "        SelectedAugSetsPhase2.add(S)\n",
        "\n",
        "  for S in SelectedAugSetsPhase2:\n",
        "    RedsinS = set(AugmentedSets[S]).intersection(set(Reds.keys()))\n",
        "    SelectedRedsPhase2 = SelectedRedsPhase2.union(RedsinS)\n",
        "\n",
        "  SelectedAugSets = [s for s in SelectedAugSetsPhase2.union(SelectedAugSetsPhase1)]\n",
        "\n",
        "  ###Remove redundant sets\n",
        "  # for b in Blues.keys():\n",
        "  #   for S1 in [S for S in SelectedAugSets if b in AugmentedSets[S]]:\n",
        "  #     RedsinS1 = set(AugmentedSets[S1]).intersection(set(Reds.keys()))\n",
        "  #     RedsinS2 = set()\n",
        "  #     for S2 in [S for S in SelectedAugSets if (S != S1 and b in AugmentedSets[S])]:\n",
        "  #       RedsinS2 = RedsinS2.union(set(AugmentedSets[S2]).intersection(set(Reds.keys())))\n",
        "\n",
        "  #     # print(\"b \", b)\n",
        "  #     # print(RedsinS1)\n",
        "  #     # print(RedsinS2)\n",
        "  #     if RedsinS1.issubset(RedsinS2):\n",
        "  #         print(\"S1 Can be removed\")\n",
        "\n",
        "  #gety\n",
        "  SelectedReds = [r for r in SelectedRedsPhase2.union(SelectedRedsPhase1)]\n",
        "  #getx\n",
        "\n",
        "  SolnEdgestoBlue = [(b,S) for S in SelectedAugSets for b in set(AugmentedSets[S]).intersection(set(Blues.keys()))]\n",
        "  SolnEdgestoRed = [(r,S) for S in SelectedAugSets for r in set(AugmentedSets[S]).intersection(set(Reds.keys()))]\n",
        "  SolnEdges = SolnEdgestoBlue+SolnEdgestoRed\n",
        "\n",
        "  print(\"Number of reds covered: \", len(SelectedReds))\n",
        "  return SelectedReds, SelectedAugSets, SolnEdges\n",
        "\n",
        "SelectedReds, SelectedAugSets, SolnEdges = CarrApproximationAlgorithm(Reds, Blues, AugmentedSets, vals_y)"
      ]
    },
    {
      "cell_type": "code",
      "source": [
        "SelectedAugSets"
      ],
      "metadata": {
        "colab": {
          "base_uri": "https://localhost:8080/"
        },
        "id": "JgQkG16HxL67",
        "outputId": "125c3746-af9c-4a21-f493-5c3a08fd2af6"
      },
      "execution_count": 110,
      "outputs": [
        {
          "output_type": "execute_result",
          "data": {
            "text/plain": [
              "['Set43', 'Set33', 'Set37', 'Set38', 'Set39', 'Set42', 'Set41', 'Set50']"
            ]
          },
          "metadata": {},
          "execution_count": 110
        }
      ]
    },
    {
      "cell_type": "code",
      "source": [
        "for b in Blues.keys():\n",
        "  located = False\n",
        "  for S in SelectedAugSets:\n",
        "    if b in AugmentedSets[S]:\n",
        "      located = True\n",
        "  if not located:\n",
        "    print(b)"
      ],
      "metadata": {
        "id": "KipoERHAw2Hw"
      },
      "execution_count": 111,
      "outputs": []
    },
    {
      "cell_type": "markdown",
      "source": [
        "### Peleg Approximation Algorithm \n",
        "\n"
      ],
      "metadata": {
        "id": "Tu3_wixHqB0e"
      }
    },
    {
      "cell_type": "code",
      "source": [
        "def deg(r, Sets):\n",
        "  '''\n",
        "  Number of sets containing r \n",
        "  '''\n",
        "  counter = 0\n",
        "  for S in Sets.keys():\n",
        "    if r in Sets[S]:\n",
        "      counter += 1\n",
        "  return counter\n",
        "\n",
        "def Delta(Reds,Sets):\n",
        "  '''\n",
        "  Maximum degree\n",
        "  '''\n",
        "  return max([deg(r, Sets) for r in Reds.keys()])\n",
        "\n",
        "def ElementsinFamily(Sets, Elements):\n",
        "  '''\n",
        "  Elements in the collection \n",
        "  '''\n",
        "  ElementsinFamily = set()\n",
        "  for S in Sets.keys():\n",
        "    ElementsinFamily = ElementsinFamily.union(set(Sets[S]).intersection(set(Elements)))\n",
        "  return ElementsinFamily\n",
        "\n",
        "def NumRedsinS(Set, Reds):\n",
        "  try: #if reds is a dictionary where the keys are the elements\n",
        "    return len(set(Set).intersection(set(Reds.keys())))\n",
        "  except: #else its just an iterable/set of reds\n",
        "    return len(set(Set).intersection(set(Reds)))\n",
        "\n",
        "def Phi(Reds, Sets, S = None):\n",
        "\n",
        "  if S == None: #calculate phi for a collection\n",
        "    try: #if Reds  is a  dictionary \n",
        "      return {S: set(Sets[S]) - set(Reds.keys()) for S in Sets.keys()}\n",
        "    except: #otherwise reds is an iterable/list\n",
        "      return {S: set(Sets[S]) - set(Reds) for S in Sets.keys()}\n",
        "  else: #if S is supplied then Sets is a dictionary\n",
        "    try: #if Reds  is a  dictionary \n",
        "      return set(Sets[S]) - set(Reds.keys())\n",
        "    except: #otherwise reds is an iterable/list\n",
        "      return set(Sets[S]) - set(Reds)\n",
        " \n",
        "\n",
        "Phi(Reds, Sets)\n",
        "\n",
        "def GreedyWeightedSetCover(Sets, weights, Elements, printt = False):\n",
        "  '''\n",
        "  Greedy weighted set cover algorithm \n",
        "  Add sets to the cover that have the smallest weight/number of elements covered \n",
        "  \n",
        "  '''\n",
        "  Uncovered = Elements.copy()\n",
        "  Cover = []\n",
        "  #check that all elements are covered by Sets:\n",
        "  SetsUnion = set()\n",
        "  for S in Sets.keys():\n",
        "    SetsUnion = SetsUnion.union(set(Sets[S]))\n",
        "  if not set(Elements).issubset(SetsUnion):\n",
        "    print(\"Not all elements covered\")\n",
        "    return None\n",
        "  while set(Uncovered) != set():\n",
        "    if printt:\n",
        "      print(\"enter loop\")\n",
        "      print(Uncovered)\n",
        "    minPrice = 10**(12)\n",
        "    bestSet = None\n",
        "    for S in Sets.keys():\n",
        "      if len(set(Sets[S]).intersection(set(Uncovered))) > 0:\n",
        "        priceS = weights[S]/(len(set(Sets[S]).intersection(set(Uncovered))))\n",
        "        if priceS < minPrice:\n",
        "          bestSet = S\n",
        "          minPrice = priceS\n",
        "    if bestSet != None:\n",
        "      Cover.append(bestSet)\n",
        "      for e in Sets[bestSet]:\n",
        "        if e in Uncovered:\n",
        "          Uncovered.remove(e)\n",
        "  return Cover\n",
        "\n",
        "GreedyCover = GreedyWeightedSetCover(Sets, {S:1 for S in Sets.keys()}, list(Blues.keys()))\n",
        "\n",
        "### Greedy Red Blue\n",
        "\n",
        "def GreedyRB(Reds, Blues, Sets):\n",
        "  '''\n",
        "  Augment collection of sets to just the blue elements\n",
        "  set the costs of each set equal to the number of reds in that set\n",
        "  do a greedy weighted set cover on this new instance \n",
        "  '''\n",
        "  T = Phi(Reds, Sets)\n",
        "  weights = {S: NumRedsinS(Sets[S],Reds) for S in Sets.keys()}\n",
        "  coverT =GreedyWeightedSetCover(T, weights, set(Blues.keys()))\n",
        "  return {S:Sets[S] for S in coverT}\n"
      ],
      "metadata": {
        "id": "jkErQNQNKA4O"
      },
      "execution_count": 112,
      "outputs": []
    },
    {
      "cell_type": "code",
      "source": [
        "Phi(Reds, Sets)"
      ],
      "metadata": {
        "colab": {
          "base_uri": "https://localhost:8080/"
        },
        "id": "QQ3qejWcorRw",
        "outputId": "64fa5188-40f6-4804-fcb4-17962c614d83"
      },
      "execution_count": 113,
      "outputs": [
        {
          "output_type": "execute_result",
          "data": {
            "text/plain": [
              "{'Set0': {41, 42, 43, 44},\n",
              " 'Set1': {40, 41, 42, 44},\n",
              " 'Set10': {40, 41, 42},\n",
              " 'Set11': {40, 42, 44},\n",
              " 'Set12': {44},\n",
              " 'Set13': {40, 42, 43},\n",
              " 'Set14': {42},\n",
              " 'Set2': {42, 43},\n",
              " 'Set3': {41, 42, 43, 44},\n",
              " 'Set4': {40, 41, 42, 43},\n",
              " 'Set5': {40, 42, 44},\n",
              " 'Set6': {40, 42},\n",
              " 'Set7': {40, 42},\n",
              " 'Set8': {43},\n",
              " 'Set9': {42, 44}}"
            ]
          },
          "metadata": {},
          "execution_count": 113
        }
      ]
    },
    {
      "cell_type": "code",
      "source": [
        "GreedyWeightedSetCover(Sets, {S:1 for S in Sets.keys()},\n",
        "                       set(Blues.keys()), printt = True)\n",
        "GreedyRB(Reds, Blues, Sets)"
      ],
      "metadata": {
        "colab": {
          "base_uri": "https://localhost:8080/"
        },
        "id": "HE7-8UK_mQwA",
        "outputId": "84d01a53-3991-4187-8cb9-40943b0e8f6a"
      },
      "execution_count": 114,
      "outputs": [
        {
          "output_type": "stream",
          "name": "stdout",
          "text": [
            "enter loop\n",
            "{40, 41, 42, 43, 44}\n",
            "enter loop\n",
            "{40}\n"
          ]
        },
        {
          "output_type": "execute_result",
          "data": {
            "text/plain": [
              "{'Set10': [41,\n",
              "  20,\n",
              "  29,\n",
              "  15,\n",
              "  40,\n",
              "  35,\n",
              "  19,\n",
              "  34,\n",
              "  30,\n",
              "  10,\n",
              "  42,\n",
              "  22,\n",
              "  21,\n",
              "  4,\n",
              "  0,\n",
              "  12,\n",
              "  18,\n",
              "  5,\n",
              "  39,\n",
              "  2,\n",
              "  38],\n",
              " 'Set11': [42, 11, 40, 44, 10, 15, 14, 8, 34],\n",
              " 'Set8': [14, 33, 0, 36, 10, 43]}"
            ]
          },
          "metadata": {},
          "execution_count": 114
        }
      ]
    },
    {
      "cell_type": "code",
      "source": [
        "math.log(2.73)"
      ],
      "metadata": {
        "colab": {
          "base_uri": "https://localhost:8080/"
        },
        "id": "4NmOx9PwxMsd",
        "outputId": "3774c125-0a92-4041-c9c6-ebe996783d07"
      },
      "execution_count": 115,
      "outputs": [
        {
          "output_type": "execute_result",
          "data": {
            "text/plain": [
              "1.0043016091968684"
            ]
          },
          "metadata": {},
          "execution_count": 115
        }
      ]
    },
    {
      "cell_type": "code",
      "source": [
        "def LowDeg(X, Reds, Blues, Sets):\n",
        "  #discard sets with more than X red elements\n",
        "  S_X = {S:Sets[S] for S in Sets.keys() if NumRedsinS(Sets[S], Reds) <= X}\n",
        "  #check feasibility \n",
        "  BluesinS_X = ElementsinFamily(S_X, Blues.keys())\n",
        "  if BluesinS_X != set(Blues.keys()):\n",
        "    #print(\"Not Feasible\")\n",
        "    return set(Sets.keys())\n",
        "\n",
        "  Y = math.sqrt( len( Sets )/math.log( len(Blues) ) )\n",
        "  #high degree reds\n",
        "  RedsH = {r for r in Reds.keys() if deg(r, S_X) > Y}\n",
        "  RedsL = set(Reds.keys()) - RedsH\n",
        "  S_XY = Phi(RedsH, S_X)\n",
        "  GreedyCover = GreedyRB(RedsL, Blues, S_XY)\n",
        "  return set(GreedyCover.keys())\n",
        "\n",
        "LowDeg(30, Reds, Blues, Sets)\n",
        "\n",
        "def LowDeg2(Reds, Blues, Sets):\n",
        "  BestCover = Sets\n",
        "  MinReds = len(Reds.keys())\n",
        "  for X in range(1,len(Reds.keys())+1):\n",
        "    Candidates = LowDeg(X, Reds, Blues, Sets)\n",
        "    CandidateSets = {Candidate:Sets[Candidate] for Candidate in Candidates}\n",
        "    RedsinCandidates = ElementsinFamily(CandidateSets, Reds)\n",
        "    NumReds = len(RedsinCandidates)\n",
        "    if NumReds < MinReds:\n",
        "      BestCover = CandidateSets\n",
        "      MinReds = NumReds\n",
        "  return BestCover, MinReds\n",
        "BestCover, MinReds = LowDeg2(Reds, Blues, Sets)"
      ],
      "metadata": {
        "id": "C4zKqGa7T6pM"
      },
      "execution_count": 116,
      "outputs": []
    },
    {
      "cell_type": "code",
      "source": [
        "BestCover, MinReds"
      ],
      "metadata": {
        "id": "0tO2b0872b3n",
        "outputId": "15ed9566-8241-4e94-a9ea-e248bc384bea",
        "colab": {
          "base_uri": "https://localhost:8080/"
        }
      },
      "execution_count": 117,
      "outputs": [
        {
          "output_type": "execute_result",
          "data": {
            "text/plain": [
              "({'Set10': [41,\n",
              "   20,\n",
              "   29,\n",
              "   15,\n",
              "   40,\n",
              "   35,\n",
              "   19,\n",
              "   34,\n",
              "   30,\n",
              "   10,\n",
              "   42,\n",
              "   22,\n",
              "   21,\n",
              "   4,\n",
              "   0,\n",
              "   12,\n",
              "   18,\n",
              "   5,\n",
              "   39,\n",
              "   2,\n",
              "   38],\n",
              "  'Set11': [42, 11, 40, 44, 10, 15, 14, 8, 34],\n",
              "  'Set8': [14, 33, 0, 36, 10, 43]},\n",
              " 23)"
            ]
          },
          "metadata": {},
          "execution_count": 117
        }
      ]
    },
    {
      "cell_type": "code",
      "source": [
        "BestAugmentedCover, MinReds = LowDeg2(Reds, Blues, AugmentedSets)\n",
        "BestAugmentedCover, MinReds"
      ],
      "metadata": {
        "colab": {
          "base_uri": "https://localhost:8080/"
        },
        "id": "iQEoW4JATHJZ",
        "outputId": "3434feb9-6124-4054-ed66-1f8f9b8b2b93"
      },
      "execution_count": 118,
      "outputs": [
        {
          "output_type": "execute_result",
          "data": {
            "text/plain": [
              "({'Set23': [1, 5, 10, 15, 19, 24, 27, 40],\n",
              "  'Set24': [1, 5, 10, 15, 19, 24, 27, 42],\n",
              "  'Set25': [1, 5, 10, 15, 19, 24, 27, 44],\n",
              "  'Set33': [14, 33, 0, 36, 10, 43],\n",
              "  'Set38': [0,\n",
              "   34,\n",
              "   35,\n",
              "   4,\n",
              "   5,\n",
              "   2,\n",
              "   39,\n",
              "   38,\n",
              "   10,\n",
              "   12,\n",
              "   15,\n",
              "   18,\n",
              "   19,\n",
              "   20,\n",
              "   21,\n",
              "   22,\n",
              "   29,\n",
              "   30,\n",
              "   41]},\n",
              " 24)"
            ]
          },
          "metadata": {},
          "execution_count": 118
        }
      ]
    },
    {
      "cell_type": "markdown",
      "metadata": {
        "id": "q0GA8VYdx3Wx"
      },
      "source": [
        "### Standard Benders decomposition on the augmented version of the problem (deterministic case)"
      ]
    },
    {
      "cell_type": "code",
      "execution_count": 119,
      "metadata": {
        "colab": {
          "base_uri": "https://localhost:8080/"
        },
        "id": "ykSGvie0whD-",
        "outputId": "a49a5f20-54ca-49c2-aea3-515818ca64d8"
      },
      "outputs": [
        {
          "output_type": "stream",
          "name": "stdout",
          "text": [
            "Gurobi Optimizer version 9.1.2 build v9.1.2rc0 (linux64)\n",
            "Thread count: 1 physical cores, 2 logical processors, using up to 2 threads\n",
            "Optimize a model with 898 rows, 40 columns and 898 nonzeros\n",
            "Model fingerprint: 0x602db9b7\n",
            "Coefficient statistics:\n",
            "  Matrix range     [1e+00, 1e+00]\n",
            "  Objective range  [1e+00, 1e+00]\n",
            "  Bounds range     [0e+00, 0e+00]\n",
            "  RHS range        [1e+00, 1e+00]\n",
            "Presolve removed 898 rows and 40 columns\n",
            "Presolve time: 0.02s\n",
            "Presolve: All rows and columns removed\n",
            "Iteration    Objective       Primal Inf.    Dual Inf.      Time\n",
            "       0    2.3000000e+01   0.000000e+00   0.000000e+00      0s\n",
            "\n",
            "Solved in 0 iterations and 0.03 seconds\n",
            "Optimal objective  2.300000000e+01\n"
          ]
        }
      ],
      "source": [
        "### Primal subproblem implementation\n",
        "m_sub = gp.Model()\n",
        "y = m_sub.addVars(Reds.keys(), obj = 1, name='y', lb = 0, vtype = GRB.CONTINUOUS)\n",
        "\n",
        "for S in AugmentedSets.keys():\n",
        "  m_sub.addConstrs((y[r] >= vals_x[S] for r in set(AugmentedSets[S]).intersection(set(Reds.keys()))))\n",
        "\n",
        "m_sub.optimize()"
      ]
    },
    {
      "cell_type": "code",
      "execution_count": 120,
      "metadata": {
        "colab": {
          "base_uri": "https://localhost:8080/"
        },
        "id": "fL_JT9tRxR0n",
        "outputId": "b76c7a59-6d02-44be-eb95-5e1b7044a98b"
      },
      "outputs": [
        {
          "output_type": "stream",
          "name": "stdout",
          "text": [
            "Gurobi Optimizer version 9.1.2 build v9.1.2rc0 (linux64)\n",
            "Thread count: 1 physical cores, 2 logical processors, using up to 2 threads\n",
            "Optimize a model with 40 rows, 898 columns and 898 nonzeros\n",
            "Model fingerprint: 0x5fec36dd\n",
            "Coefficient statistics:\n",
            "  Matrix range     [1e+00, 1e+00]\n",
            "  Objective range  [1e+00, 1e+00]\n",
            "  Bounds range     [0e+00, 0e+00]\n",
            "  RHS range        [1e+00, 1e+00]\n",
            "Presolve removed 40 rows and 898 columns\n",
            "Presolve time: 0.02s\n",
            "Presolve: All rows and columns removed\n",
            "Iteration    Objective       Primal Inf.    Dual Inf.      Time\n",
            "       0    2.3000000e+01   0.000000e+00   0.000000e+00      0s\n",
            "\n",
            "Solved in 0 iterations and 0.03 seconds\n",
            "Optimal objective  2.300000000e+01\n"
          ]
        }
      ],
      "source": [
        "### dual subproblem implementation \n",
        "m_sub = gp.Model()\n",
        "#red element set combinatations where r is in S \n",
        "\n",
        "RedSetCombos = {(r,S) for S in AugmentedSets.keys() for r in Reds.keys() if r in AugmentedSets[S]}\n",
        "pi = m_sub.addVars(RedSetCombos, name='pi', lb = 0, vtype = GRB.CONTINUOUS)\n",
        "\n",
        "for r in Reds.keys():\n",
        "  SetsContainingr = {Set for Set in AugmentedSets.keys() if r in AugmentedSets[Set]}\n",
        "  if SetsContainingr!= None:\n",
        "    m_sub.addConstr(gp.quicksum(pi[(r,S)] for S in SetsContainingr) <= 1)\n",
        "\n",
        "m_sub.setObjective(gp.quicksum(vals_x[S]*pi[(r,S)] for (r,S) in pi.keys()), GRB.MAXIMIZE)\n",
        "m_sub.optimize()"
      ]
    },
    {
      "cell_type": "code",
      "execution_count": 121,
      "metadata": {
        "colab": {
          "base_uri": "https://localhost:8080/"
        },
        "id": "bInQ4-HbAYuG",
        "outputId": "2fcca566-a4e3-4ef9-e31a-ed65421b2879"
      },
      "outputs": [
        {
          "output_type": "stream",
          "name": "stdout",
          "text": [
            "Changed value of parameter lazyConstraints to 1\n",
            "   Prev: 0  Min: 0  Max: 1  Default: 0\n",
            "Gurobi Optimizer version 9.1.2 build v9.1.2rc0 (linux64)\n",
            "Thread count: 1 physical cores, 2 logical processors, using up to 2 threads\n",
            "Optimize a model with 6 rows, 40 columns and 45 nonzeros\n",
            "Model fingerprint: 0xf78558a3\n",
            "Variable types: 1 continuous, 39 integer (39 binary)\n",
            "Coefficient statistics:\n",
            "  Matrix range     [1e+00, 2e+01]\n",
            "  Objective range  [1e+00, 1e+00]\n",
            "  Bounds range     [1e+00, 1e+00]\n",
            "  RHS range        [1e+00, 1e+00]\n",
            "Presolve time: 0.00s\n",
            "Presolved: 6 rows, 40 columns, 45 nonzeros\n",
            "Variable types: 1 continuous, 39 integer (39 binary)\n",
            "\n",
            "Root relaxation: objective 0.000000e+00, 5 iterations, 0.00 seconds\n",
            "\n",
            "    Nodes    |    Current Node    |     Objective Bounds      |     Work\n",
            " Expl Unexpl |  Obj  Depth IntInf | Incumbent    BestBd   Gap | It/Node Time\n",
            "\n",
            "     0     0    1.65725    0    5          -    1.65725      -     -    0s\n",
            "No violation\n",
            "H    0     0                      39.0000000    1.65725  95.8%     -    0s\n",
            "     0     0    3.51346    0    7   39.00000    3.51346  91.0%     -    0s\n",
            "No violation\n",
            "H    0     0                      38.0000000    3.51346  90.8%     -    0s\n",
            "No violation\n",
            "H    0     0                      36.0000000    3.51346  90.2%     -    0s\n",
            "     0     0    3.98240    0    9   36.00000    3.98240  88.9%     -    0s\n",
            "     0     0    7.33333    0    5   36.00000    7.33333  79.6%     -    0s\n",
            "     0     0    7.33333    0    6   36.00000    7.33333  79.6%     -    0s\n",
            "     0     0    7.80000    0    5   36.00000    7.80000  78.3%     -    0s\n",
            "     0     0    7.80000    0   12   36.00000    7.80000  78.3%     -    0s\n",
            "     0     0    7.80000    0   10   36.00000    7.80000  78.3%     -    0s\n",
            "     0     2    8.00000    0    9   36.00000    8.00000  77.8%     -    0s\n",
            "No violation\n",
            "H   23    15                      23.0000000    8.00000  65.2%   8.3    0s\n",
            "\n",
            "Cutting planes:\n",
            "  Implied bound: 1\n",
            "  MIR: 6\n",
            "  Relax-and-lift: 1\n",
            "  Lazy constraints: 115\n",
            "\n",
            "Explored 318 nodes (1957 simplex iterations) in 1.02 seconds\n",
            "Thread count was 2 (of 2 available processors)\n",
            "\n",
            "Solution count 4: 23 36 38 39 \n",
            "\n",
            "Optimal solution found (tolerance 1.00e-04)\n",
            "Best objective 2.300000000000e+01, best bound 2.300000000000e+01, gap 0.0000%\n",
            "\n",
            "User-callback calls 990, time in user-callback 0.82 sec\n",
            "\n",
            "Optimal x: {'Set0': -0.0, 'Set1': -0.0, 'Set2': -0.0, 'Set3': -0.0, 'Set5': -0.0, 'Set6': -0.0, 'Set7': -0.0, 'Set8': 0.0, 'Set10': 0.0, 'Set11': -0.0, 'Set13': -0.0, 'Set14': -0.0, 'Set15': -0.0, 'Set16': -0.0, 'Set18': -0.0, 'Set19': -0.0, 'Set20': -0.0, 'Set21': 0.0, 'Set23': -0.0, 'Set24': -0.0, 'Set25': -0.0, 'Set27': -0.0, 'Set28': 0.0, 'Set30': -0.0, 'Set31': -0.0, 'Set33': 1.0, 'Set34': -0.0, 'Set35': -0.0, 'Set37': -0.0, 'Set38': 1.0, 'Set39': 1.0, 'Set41': 1.0, 'Set42': -0.0, 'Set43': 1.0, 'Set45': -0.0, 'Set46': -0.0, 'Set47': -0.0, 'Set48': -0.0, 'Set50': -0.0}\n",
            "Optimal cost: 23\n",
            "\n"
          ]
        }
      ],
      "source": [
        "\n",
        "# Callback - use lazy constraints (and user cuts) to add benders cuts\n",
        "def benders(model, where):\n",
        "    if where == GRB.Callback.MIPSOL:    # This is the LAZY CONSTRAINT, called only when an INTEGER solution is found\n",
        "                                        # (mandatory, you can't find the optimal solution w/o the lazy constraints)\n",
        "        global counter\n",
        "        global PrintInfo\n",
        "        if PrintInfo:\n",
        "          print('**************************************************')\n",
        "          print('Integer solution is found...')\n",
        "       \n",
        "        vals_x = model.cbGetSolution(x)\n",
        "        theta = [var for var in model.getVars() if 'theta' in var.varName]\n",
        "        vals_theta = model.cbGetSolution(theta)\n",
        "        \n",
        "        # build the subproblem (it's better to build it once, outside the callback, and then modify it inside - left as an exercise)\n",
        "        m_sub.setObjective(gp.quicksum(vals_x[S]*pi[(r,S)] for (r,S) in pi.keys()), GRB.MAXIMIZE)\n",
        "\n",
        "        m_sub.optimize()\n",
        "        vals_pi = m_sub.getAttr('x', pi)\n",
        "\n",
        "        if PrintInfo:\n",
        "          print(\"\\n\\n\\n\")\n",
        "          print(\"At iteration \" + str(counter) + \", \")\n",
        "        \n",
        "          #print(\"x = \", list(vals_x))\n",
        "          print(\"Theta val = \", vals_theta[0])\n",
        "          print(\"Master objective value (LB) = \", vals_theta[0])\n",
        "          #print(\"pi = \", list(vals_pi.values()))\n",
        "          print(\"Benders cut bound = \", sum(vals_x[S]*vals_pi[(r,S)] for (r,S) in vals_pi.keys()))\n",
        "        \n",
        "        status = sum(vals_x[S]*vals_pi[(r,S)] for (r,S) in vals_pi.keys()) - vals_theta[0] >= 0.001\n",
        "        if PrintInfo:\n",
        "          print(\"Is their any violation?\", status)\n",
        "        if status:\n",
        "            if PrintInfo: \n",
        "              print('Benders cut added...')\n",
        "            model.cbLazy(theta[0] >= sum(x[S]*vals_pi[(r,S)] for (r,S) in vals_pi.keys()))\n",
        "        else:\n",
        "            print('No violation')\n",
        "        UB = sum(vals_x[S]*vals_pi[(r,S)] for (r,S) in vals_pi.keys())\n",
        "        LB = vals_theta[0]\n",
        "        if PrintInfo:\n",
        "          print(\"UB - LB = \", UB - LB)\n",
        "          print(\"\\n\\n\\n\")\n",
        "\n",
        "          print('**************************************************')\n",
        "        \n",
        "        counter += 1\n",
        "\n",
        "counter = 0\n",
        "PrintInfo = False\n",
        "xWarm = {S:0 for S in vals_x.keys()}\n",
        "for S in BestAugmentedCover:\n",
        "  xWarm[S] = 1\n",
        "\n",
        "#subproblem\n",
        "m_sub = gp.Model()\n",
        "#red element set combinatations where r is in S \n",
        "m_sub.Params.OutputFlag = 0\n",
        "\n",
        "RedSetCombos = {(r,S) for S in AugmentedSets.keys() for r in Reds.keys() if r in AugmentedSets[S]}\n",
        "pi = m_sub.addVars(RedSetCombos, name='pi', lb = 0, vtype = GRB.CONTINUOUS)\n",
        "\n",
        "for r in Reds.keys():\n",
        "  SetsContainingr = {Set for Set in AugmentedSets.keys() if r in AugmentedSets[Set]}\n",
        "  if SetsContainingr!= None:\n",
        "    m_sub.addConstr(gp.quicksum(pi[(r,S)] for S in SetsContainingr) <= 1)\n",
        "\n",
        "\n",
        "m = gp.Model()\n",
        "\n",
        "# Create variables\n",
        "x = m.addVars(AugmentedSets.keys(), vtype = GRB.BINARY, lb = 0, ub = 1, name = 'x')\n",
        "theta = m.addVar(obj = 1, name='theta')\n",
        "\n",
        "for b in Blues.keys():\n",
        "  m.addConstr(gp.quicksum(x[S] for S in \\\n",
        "                          {Set for Set in AugmentedSets.keys() if b in AugmentedSets[Set]})\\\n",
        "              >= 1)\n",
        "  \n",
        "#add warm start cuts\n",
        "# build the subproblem (it's better to build it once, outside the callback, and then modify it inside - left as an exercise)\n",
        "m_sub.setObjective(gp.quicksum(xWarm[S]*pi[(r,S)] for (r,S) in pi.keys()), GRB.MAXIMIZE)\n",
        "\n",
        "m_sub.optimize()\n",
        "vals_pi = {(r,S):pi[(r,S)].x for (r,S) in pi.keys()}\n",
        "m.addConstr(theta >= sum(x[S]*vals_pi[(r,S)] for (r,S) in vals_pi.keys()))\n",
        "# m.write('bender-FL.lp')\n",
        "\n",
        "# Optimize model\n",
        "m._x = x\n",
        "\n",
        "m.Params.lazyConstraints = 1 # # To be used with lazy constraints\n",
        "m.optimize(benders)\n",
        "\n",
        "vals = m.getAttr('x', x)\n",
        "\n",
        "print('')\n",
        "print('Optimal x: %s' % str(vals))\n",
        "print('Optimal cost: %g' % m.objVal)\n",
        "print('')"
      ]
    },
    {
      "cell_type": "markdown",
      "metadata": {
        "id": "Epe7yFz4ZBHi"
      },
      "source": [
        "A naive benders implementation does not achieve good results, it takes too long. "
      ]
    },
    {
      "cell_type": "markdown",
      "metadata": {
        "id": "f9PGH8A0xI-Z"
      },
      "source": [
        "### Dual benders cuts formulation on the augmented problem\n",
        "\n",
        "For a given solution of the master problem $x^*$. In Benders Dual Decomposition cuts are derived by solving:\n",
        "\n",
        "$$\\underset{y,z}{\\min} {\\Big \\{} \\sum_{r \\in R} y_r \\ |\\  \\sum_{S \\ni b} z_S \\geq 1\\ \\forall b,\\ y_r \\geq z_S \\ \\forall (S,r): r \\in S, z = x^*, y_r \\in \\mathbb{R}_+, \\ z \\in \\mathbb{R}_+ {\\Big \\}}$$ (1)\n",
        "\n",
        "resulting in the following optimality cut:\n",
        "\n",
        "$$ \\theta \\geq \\sum_{r \\in R} \\bar{y}_r + \\sum_{S} \\bar{\\lambda}_S (x_S - \\bar{z}_S)$$ (2)\n",
        "\n",
        "where $\\bar{\\lambda}_S$ is the dual multipler associated with the constraint $x_S = y_S$ for set $S$\n",
        "\n",
        "Rahmaniani et. al. show that pricing the constrains $x = z$ into the objective function and solving the lagarangian dual problem yields stronger cuts. Let $Y$ denote $\\{(y,z) \\in \\mathbb{R}^{|R|\\times|\\mathcal{S}|} |  \\sum_{S \\ni b} z_S \\geq 1\\ \\forall b,\\ y_r \\geq z_S \\ \\forall (S,r): r \\in S \\}$. The lagrangian dual problem takes the following form: \n",
        "\n",
        "$$\\underset{\\lambda}{\\max} \\underset{y,z \\in X}{\\min} {\\Big \\{} \\sum_{r \\in R} y_r + \\sum_{S} \\lambda_S (x^*_S - z_S)\\  |\\  z_S \\in \\{0,1\\} {\\Big \\}}$$(3)\n",
        "\n",
        "resullting in the following optimality cut:\n",
        "\n",
        "$$\\theta \\geq \\sum_{r \\in R} \\bar{y}_r + \\sum_{S} \\bar{\\lambda}_S (x_S - \\bar{z}_S)$$ (4)\n",
        "\n",
        "The lagarangian problem is challenging to solve. To combat this Rahmaniani et. al. use a aphased approach. The phased approach used by Rahmaniani et. al. begins by generating the first set of optimality cuts by solving (1) and generating (2). Then using the dual values obtained from (1) denoted by $\\bar{\\lambda}^{(0)}$, the inner minimization in (3) is solved to obtain $\\bar{y}^{(0)}, \\bar{z}^{(0)}$ and the resulting cut (4) is added. The third phase focuses on heuristically solving the lagrangian dual by lifting the cuts as much as possible. The procedure is as follows: assume that a given series of values (corresponding to cuts) $\\bar{y}^{(k)}, \\bar{z}^{(k)}, \\bar{\\lambda}^{(k)}$ $k = 1,2,...,t-1$ has been obtained. The next approximate lagrangian cut is obtained by solving:\n",
        "\n",
        "$$\n",
        "\\begin{aligned}\n",
        "\\underset{\\eta \\in \\mathbb{R}, \\lambda \\in \\mathbb{R}^{|\\mathcal{S}|}}{\\max} \\quad &\\eta - \\frac{\\delta}{2}||\\lambda^{(t-1)} - \\lambda||_2^2\\\\\n",
        "\\text{s.t}\\quad &\\eta \\leq \\sum_{r \\in R} \\bar{y}_r^{(k)} + \\sum_{S} \\lambda_S(x^*_S - \\bar{z}^{(k)}) \\quad  k = 1,2,...,t-1\n",
        "\\end{aligned}\n",
        "$$\n",
        "(5)\n",
        "\n",
        "to obtain $\\bar{\\lambda}^{(t)}$. Then, $\\bar{\\lambda}^{(t)}$ is used to obtain  $\\bar{y}^{(t)}, \\bar{z}^{(t)}$  by solving the inner minimization of the  lagrangian dual:\n",
        "\n",
        "$$\\bar{y}^{(t)}, \\bar{z}^{(t)} =  \\underset{y,z \\in X}{\\text{argmin}} {\\Big \\{} \\sum_{r \\in R} y_r + \\sum_{S} \\bar{\\lambda}^{(t)}_S (x^*_S - z_S)\\  |\\  z_S \\in \\{0,1\\} {\\Big \\}}$$(6)\n"
      ]
    },
    {
      "cell_type": "code",
      "execution_count": 122,
      "metadata": {
        "colab": {
          "base_uri": "https://localhost:8080/"
        },
        "id": "L6ejQPhT20RX",
        "outputId": "d533f378-0f5c-4d08-94e4-5058635a8ff9"
      },
      "outputs": [
        {
          "output_type": "stream",
          "name": "stdout",
          "text": [
            "Parameter OutputFlag unchanged\n",
            "   Value: 1  Min: 0  Max: 1  Default: 1\n",
            "Gurobi Optimizer version 9.1.2 build v9.1.2rc0 (linux64)\n",
            "Thread count: 1 physical cores, 2 logical processors, using up to 2 threads\n",
            "Optimize a model with 942 rows, 79 columns and 1874 nonzeros\n",
            "Model fingerprint: 0x701a8038\n",
            "Coefficient statistics:\n",
            "  Matrix range     [1e+00, 1e+00]\n",
            "  Objective range  [1e+00, 1e+00]\n",
            "  Bounds range     [0e+00, 0e+00]\n",
            "  RHS range        [1e+00, 1e+00]\n",
            "Presolve removed 942 rows and 79 columns\n",
            "Presolve time: 0.01s\n",
            "Presolve: All rows and columns removed\n",
            "Iteration    Objective       Primal Inf.    Dual Inf.      Time\n",
            "       0    4.0000000e+01   0.000000e+00   0.000000e+00      0s\n",
            "\n",
            "Solved in 0 iterations and 0.02 seconds\n",
            "Optimal objective  4.000000000e+01\n"
          ]
        }
      ],
      "source": [
        "#subproblem implementation for testing \n",
        "m_sub = gp.Model()\n",
        "#red element set combinatations where r is in S \n",
        "m_sub.Params.OutputFlag = 1\n",
        "y = m_sub.addVars(Reds.keys(), obj = 1, name='y', lb = 0, vtype = GRB.CONTINUOUS)\n",
        "z = m_sub.addVars(AugmentedSets.keys(), obj = 0, name='z', lb = 0, vtype = GRB.CONTINUOUS)\n",
        "\n",
        "for S in AugmentedSets.keys():\n",
        "  m_sub.addConstrs((y[r] >= z[S] for r in set(AugmentedSets[S]).intersection(set(Reds.keys()))))\n",
        "\n",
        "for b in Blues.keys():\n",
        "  m_sub.addConstr(gp.quicksum(z[S] for S in \\\n",
        "                          {Set for Set in AugmentedSets.keys() if b in AugmentedSets[Set]})\\\n",
        "              >= 1)\n",
        "\n",
        "LinkConstraint = m_sub.addConstrs((z[S] == 1 for S in z.keys()))### does not matter \n",
        "m_sub._LinkConstraint = LinkConstraint #for the call back\n",
        "\n",
        "m_sub.optimize()"
      ]
    },
    {
      "cell_type": "markdown",
      "source": [
        "#### Implementation"
      ],
      "metadata": {
        "id": "N6bXA5ynjghE"
      }
    },
    {
      "cell_type": "code",
      "source": [
        "math.floor(2.1)"
      ],
      "metadata": {
        "colab": {
          "base_uri": "https://localhost:8080/"
        },
        "id": "NhUUK2Pijlt3",
        "outputId": "ec172aba-521b-43d7-8a47-a7dd58943af1"
      },
      "execution_count": 123,
      "outputs": [
        {
          "output_type": "execute_result",
          "data": {
            "text/plain": [
              "2"
            ]
          },
          "metadata": {},
          "execution_count": 123
        }
      ]
    },
    {
      "cell_type": "code",
      "execution_count": 124,
      "metadata": {
        "colab": {
          "base_uri": "https://localhost:8080/"
        },
        "id": "8JOoEIuGxM6Z",
        "outputId": "de1614e1-6a1e-4874-e0ba-ff17018f973c"
      },
      "outputs": [
        {
          "output_type": "stream",
          "name": "stdout",
          "text": [
            "Changed value of parameter lazyConstraints to 1\n",
            "   Prev: 0  Min: 0  Max: 1  Default: 0\n",
            "Gurobi Optimizer version 9.1.2 build v9.1.2rc0 (linux64)\n",
            "Thread count: 1 physical cores, 2 logical processors, using up to 2 threads\n",
            "Optimize a model with 5 rows, 41 columns and 39 nonzeros\n",
            "Model fingerprint: 0x8f1d88a3\n",
            "Variable types: 1 continuous, 40 integer (40 binary)\n",
            "Coefficient statistics:\n",
            "  Matrix range     [1e+00, 1e+00]\n",
            "  Objective range  [1e+00, 1e+00]\n",
            "  Bounds range     [1e+00, 1e+00]\n",
            "  RHS range        [1e+00, 1e+00]\n",
            "\n",
            "No violation\n",
            "User MIP start produced solution with objective 40 (0.03s)\n",
            "No violation\n",
            "Loaded user MIP start with objective 40\n",
            "\n",
            "Presolve time: 0.00s\n",
            "Presolved: 5 rows, 41 columns, 39 nonzeros\n",
            "Variable types: 1 continuous, 40 integer (40 binary)\n",
            "\n",
            "Root relaxation: objective 0.000000e+00, 5 iterations, 0.00 seconds\n",
            "\n",
            "    Nodes    |    Current Node    |     Objective Bounds      |     Work\n",
            " Expl Unexpl |  Obj  Depth IntInf | Incumbent    BestBd   Gap | It/Node Time\n",
            "\n",
            "     0     0   12.00000    0    1   40.00000   12.00000  70.0%     -    0s\n",
            "No violation\n",
            "H    0     0                      39.0000000   12.00000  69.2%     -    0s\n",
            "     0     0   12.00000    0    1   39.00000   12.00000  69.2%     -    0s\n",
            "     0     0   16.00000    0    1   39.00000   16.00000  59.0%     -    0s\n",
            "     0     2   16.00000    0    1   39.00000   16.00000  59.0%     -    0s\n",
            "No violation\n",
            "*   14     5              14      23.0000000   16.00000  30.4%   4.9    0s\n",
            "\n",
            "Cutting planes:\n",
            "  Lazy constraints: 53\n",
            "\n",
            "Explored 34 nodes (183 simplex iterations) in 0.78 seconds\n",
            "Thread count was 2 (of 2 available processors)\n",
            "\n",
            "Solution count 3: 23 39 40 \n",
            "\n",
            "Optimal solution found (tolerance 1.00e-04)\n",
            "Best objective 2.300000000000e+01, best bound 2.300000000000e+01, gap 0.0000%\n",
            "\n",
            "User-callback calls 194, time in user-callback 0.68 sec\n",
            "\n",
            "Optimal x: {'Set0': -0.0, 'Set1': -0.0, 'Set2': -0.0, 'Set3': -0.0, 'Set5': -0.0, 'Set6': -0.0, 'Set7': -0.0, 'Set8': -0.0, 'Set10': -0.0, 'Set11': -0.0, 'Set13': -0.0, 'Set14': -0.0, 'Set15': -0.0, 'Set16': -0.0, 'Set18': -0.0, 'Set19': -0.0, 'Set20': -0.0, 'Set21': -0.0, 'Set23': -0.0, 'Set24': -0.0, 'Set25': -0.0, 'Set27': -0.0, 'Set28': -0.0, 'Set30': -0.0, 'Set31': -0.0, 'Set33': 1.0, 'Set34': -0.0, 'Set35': -0.0, 'Set37': -0.0, 'Set38': 1.0, 'Set39': 1.0, 'Set41': 1.0, 'Set42': -0.0, 'Set43': 1.0, 'Set45': -0.0, 'Set46': -0.0, 'Set47': -0.0, 'Set48': -0.0, 'Set50': -0.0}\n",
            "Optimal cost: 23\n",
            "\n"
          ]
        }
      ],
      "source": [
        "### Phase 1, solve LP relaxation with standard cuts \n",
        "\n",
        "#!/usr/bin/env python3.7\n",
        "counter = 0\n",
        "PrintInfo = False\n",
        "IntegerX = True\n",
        "delta = 1\n",
        "epsilon  = 0.01 \n",
        "IterLim = 5\n",
        "xWarm = {S:0 for S in x.keys()}\n",
        "for S in BestAugmentedCover:\n",
        "  xWarm[S] = 1\n",
        "\n",
        "# Callback - use lazy constraints (and user cuts) to add benders cuts\n",
        "def BDD(model, where):\n",
        "  global counter\n",
        "  global PrintInfo\n",
        "  global IntegerX\n",
        "  global delta\n",
        "  global epsilon\n",
        "  global xWarm\n",
        "  if where == GRB.Callback.MIPSOL:    # This is the LAZY CONSTRAINT, called only when an INTEGER solution is found\n",
        "                                        # (mandatory, you can't find the optimal solution w/o the lazy constraints)\n",
        "        if PrintInfo:\n",
        "          print('**************************************************')\n",
        "          print('Integer solution is found...')\n",
        "        #change to warm start here if you'd like\n",
        "        if counter == 0:\n",
        "          vals_x = xWarm\n",
        "        else:\n",
        "          vals_x = model.cbGetSolution(x)\n",
        "        theta = [var for var in model.getVars() if 'theta' in var.varName]\n",
        "        vals_theta = model.cbGetSolution(theta)\n",
        "        \n",
        "        # build the subproblem (it's better to build it once, outside the callback, and then modify it inside - left as an exercise)\n",
        "        for S in vals_x.keys():\n",
        "          m_sub._LinkConstraint[S].RHS = vals_x[S]\n",
        "\n",
        "        m_sub.optimize()\n",
        "        vals_y = m_sub.getAttr('x', y)\n",
        "        vals_z = m_sub.getAttr('x', z)\n",
        "        Pi = m_sub.getAttr('Pi', m_sub._LinkConstraint)\n",
        "        \n",
        "        if PrintInfo:\n",
        "          print(\"\\n\\n\\n\")\n",
        "          print(\"At iteration \" + str(counter) + \", \")\n",
        "        \n",
        "          #print(\"x = \", list(vals_x))\n",
        "          print(\"Theta val = \", vals_theta[0])\n",
        "          print(\"Master objective value (LB) = \", vals_theta[0])\n",
        "          #print(\"pi = \", list(vals_pi.values()))\n",
        "          print(\"Benders cut bound = \", m_sub.ObjVal)\n",
        "        \n",
        "        status = m_sub.ObjVal - vals_theta[0] >= 0.001\n",
        "        if PrintInfo:\n",
        "          print(\"Is their any violation?\", status)\n",
        "        if status:\n",
        "            if PrintInfo: \n",
        "              print('Benders cut added...')\n",
        "              print([vals_z[S]*Pi[S] for S in x.keys()])\n",
        "              print(vals_z)\n",
        "              print(vals_x)\n",
        "              print(Pi)\n",
        "            model.cbLazy(theta[0] >= m_sub.ObjVal \n",
        "                         + gp.quicksum(x[S]*Pi[S] for S in x.keys()) \n",
        "                         - sum(vals_z[S]*Pi[S] for S in x.keys()))\n",
        "        else:\n",
        "            print('No violation')\n",
        "\n",
        "        UB = m_sub.ObjVal \n",
        "        LB = vals_theta[0]\n",
        "        if PrintInfo:\n",
        "          print(\"UB - LB = \", UB - LB)\n",
        "          print(\"\\n\\n\\n\")\n",
        "\n",
        "        #if we are at the root node and have added a cut\n",
        "        if model.cbGet(GRB.Callback.MIPSOL_NODCNT) < 1 and IntegerX and status:\n",
        "          #begin phase #2 by solving the inner lagragian\n",
        "\n",
        "          #first change the variable types for the fractional master problem solutions\n",
        "          #force them to be integer, let all the already integer variables \n",
        "          #be relaxed and free\n",
        "          J = {S for S in vals_x.keys() if vals_x[S] \n",
        "               <= math.ceil(vals_x[S]) - epsilon and\n",
        "               vals_x[S] >= math.floor(vals_x[S]) + epsilon}\n",
        "\n",
        "          for S in J:\n",
        "            z_lagrangian[S].vtype = GRB.CONTINUOUS\n",
        "            z_lagrangian[S].lb = 0\n",
        "            z_lagrangian[S].ub = 1\n",
        "\n",
        "          #phase 2 solve 2.6 to obtain a cut, then go to phase 3\n",
        "          m_lagrangian.setObjective(y_lagrangian.sum() \n",
        "          - gp.quicksum(z_lagrangian[S]*Pi[S] for S in x.keys()) \n",
        "          + gp.quicksum(vals_x[S]*Pi[S] for S in x.keys()) )\n",
        "\n",
        "          m_lagrangian.optimize()\n",
        "          vals_y_lagrang = m_lagrangian.getAttr('x', y_lagrangian)\n",
        "          vals_z_lagrang = m_lagrangian.getAttr('x', z_lagrangian)\n",
        "          if PrintInfo:\n",
        "            print('Lagrangian cut added...')\n",
        "          #add the resulting cut\n",
        "          model.cbLazy(theta[0] >= m_lagrangian.ObjVal \n",
        "                         + gp.quicksum(x[S]*Pi[S] for S in x.keys()) \n",
        "                         - sum(vals_z_lagrang[S]*Pi[S] for S in x.keys()))\n",
        "          \n",
        "          #project the cut upwards using the heuristic program\n",
        "          #initialize parameters for loop\n",
        "          t = 0 \n",
        "          change = 1\n",
        "          lambd_last = Pi\n",
        "          y_last = vals_y_lagrang\n",
        "          z_last = vals_z_lagrang\n",
        "          old_eta = m_lagrangian.ObjVal\n",
        "          delta_t = delta/(t+1)\n",
        "          #white eta is changing, update the lifting program and then \n",
        "          #solve it, then add the resulting strengthed cut to the master\n",
        "          while t <= IterLim and change > 0.5:\n",
        "            if PrintInfo:\n",
        "              print(\"Lifting Iteration: \", t)\n",
        "            m_lifting.setObjective(eta  - \n",
        "                                   (delta_t/2)*gp.quicksum(\n",
        "                                       (lambd_last[S] - lambd[S])*(lambd_last[S] - lambd[S])\n",
        "                                       for S in lambd.keys() ), GRB.MAXIMIZE)\n",
        "            m_lifting.addConstr(\n",
        "                eta <= sum(y_last[r] for r in y_last.keys()) + \n",
        "                gp.quicksum((vals_x[S] - z_last[S])*lambd[S] for S in lambd.keys())\n",
        "                )\n",
        "            \n",
        "            m_lifting.optimize()\n",
        "            delta_t = delta/(t+1)\n",
        "            lambd_last = m_lifting.getAttr('x', lambd)\n",
        "            new_eta = eta.x\n",
        "            change = abs(new_eta - old_eta)\n",
        "            old_eta = new_eta\n",
        "            m_lagrangian.setObjective(y_lagrangian.sum() \n",
        "            - gp.quicksum(z_lagrangian[S]*lambd_last[S] for S in x.keys()) \n",
        "            + gp.quicksum(vals_x[S]*lambd_last[S] for S in x.keys()) )\n",
        "\n",
        "            m_lagrangian.optimize()\n",
        "            vals_y_lagrang = m_sub.getAttr('x', y)\n",
        "            vals_z_lagrang = m_sub.getAttr('x', z)\n",
        "            if PrintInfo:\n",
        "              print('Lifted Lagrangian cut added...')\n",
        "              print('eta ', new_eta)\n",
        "              print('change in eta ', change)\n",
        "              print('**************************************************')\n",
        "            model.cbLazy(theta[0] >= m_lagrangian.ObjVal \n",
        "                         + gp.quicksum(x[S]*lambd_last[S] for S in x.keys()) \n",
        "                         - sum(vals_z_lagrang[S]*lambd_last[S] for S in x.keys()))\n",
        "\n",
        "            y_last = vals_y_lagrang\n",
        "            z_last = vals_z_lagrang\n",
        "            t = t+1\n",
        "\n",
        "          m_lifting.remove(m_lifting.getConstrs())\n",
        "          for S in J:#reset lagarangian subproblem \n",
        "            z_lagrangian[S].vtype = GRB.BINARY\n",
        "        counter += 1\n",
        "  #only at the root node\n",
        "  if where == GRB.Callback.MIPNODE and model.cbGet(GRB.Callback.MIPNODE_NODCNT) < 1:    # This is the LAZY CONSTRAINT, called only when an INTEGER solution is found\n",
        "                                        # (mandatory, you can't find the optimal solution w/o the lazy constraints)\n",
        "        if PrintInfo:\n",
        "          print('**************************************************')\n",
        "          print('Node Relaxation...')\n",
        "        if counter == 0:\n",
        "          vals_x = xWarm\n",
        "        else:\n",
        "          vals_x = model.cbGetNodeRel(x)\n",
        "        theta = [var for var in model.getVars() if 'theta' in var.varName]\n",
        "        vals_theta = model.cbGetNodeRel(theta)\n",
        "        \n",
        "        # build the subproblem (it's better to build it once, outside the callback, and then modify it inside - left as an exercise)\n",
        "        for S in vals_x.keys():\n",
        "          m_sub._LinkConstraint[S].RHS = vals_x[S]\n",
        "\n",
        "        m_sub.optimize()\n",
        "        vals_y = m_sub.getAttr('x', y)\n",
        "        vals_z = m_sub.getAttr('x', z)\n",
        "        Pi = m_sub.getAttr('Pi', m_sub._LinkConstraint)\n",
        "        \n",
        "        if PrintInfo:\n",
        "          print(\"\\n\\n\\n\")\n",
        "          print(\"At iteration \" + str(counter) + \", \")\n",
        "        \n",
        "          #print(\"x = \", list(vals_x))\n",
        "          print(\"Theta val = \", vals_theta[0])\n",
        "          print(\"Master objective value (LB) = \", vals_theta[0])\n",
        "          #print(\"pi = \", list(vals_pi.values()))\n",
        "          print(\"Benders cut bound = \", m_sub.ObjVal)\n",
        "        \n",
        "        status = m_sub.ObjVal - vals_theta[0] >= 0.001\n",
        "        if PrintInfo:\n",
        "          print(\"Is their any violation?\", status)\n",
        "        if status:\n",
        "            if PrintInfo: \n",
        "              print('Benders cut added...')\n",
        "            model.cbLazy(theta[0] >= m_sub.ObjVal \n",
        "                         + gp.quicksum(x[S]*Pi[S] for S in x.keys()) \n",
        "                         - gp.quicksum(vals_z[S]*Pi[S] for S in x.keys()))\n",
        "        else:\n",
        "            print('No violation')\n",
        "        UB = m_sub.ObjVal \n",
        "        LB = vals_theta[0]\n",
        "        if PrintInfo:\n",
        "          print(\"UB - LB = \", UB - LB)\n",
        "          print(\"\\n\\n\\n\")\n",
        "\n",
        "          print('**************************************************')\n",
        "        \n",
        "        counter += 1\n",
        "\n",
        "#subproblem for phase 1\n",
        "m_sub = gp.Model()\n",
        "#red element set combinatations where r is in S \n",
        "m_sub.Params.OutputFlag = 0\n",
        "y = m_sub.addVars(Reds.keys(), obj = 1, name='y', lb = 0, vtype = GRB.CONTINUOUS)\n",
        "z = m_sub.addVars(AugmentedSets.keys(), obj = 0, name='z', lb = 0, vtype = GRB.CONTINUOUS)\n",
        "\n",
        "for S in AugmentedSets.keys():\n",
        "  m_sub.addConstrs((y[r] >= z[S] for r in set(AugmentedSets[S]).intersection(set(Reds.keys()))))\n",
        "\n",
        "for b in Blues.keys():\n",
        "  m_sub.addConstr(gp.quicksum(z[S] for S in \\\n",
        "                          {Set for Set in AugmentedSets.keys() if b in AugmentedSets[Set]})\\\n",
        "              >= 1)\n",
        "\n",
        "LinkConstraint = m_sub.addConstrs((z[S] == 1 for S in z.keys()))### does not matter \n",
        "m_sub._LinkConstraint = LinkConstraint #for the call back\n",
        "\n",
        "#subproblem for phase 2 \n",
        "\n",
        "m_lagrangian = gp.Model()\n",
        "#red element set combinatations where r is in S \n",
        "m_lagrangian.Params.OutputFlag = 0\n",
        "y_lagrangian = m_lagrangian.addVars(Reds.keys(), obj = 1, name='y', lb = 0, vtype = GRB.CONTINUOUS)\n",
        "z_lagrangian = m_lagrangian.addVars(AugmentedSets.keys(), obj = 0, name='z', vtype = GRB.BINARY)\n",
        "\n",
        "for S in AugmentedSets.keys():\n",
        "  m_lagrangian.addConstrs((y_lagrangian[r] >= z_lagrangian[S] for r in set(AugmentedSets[S]).intersection(set(Reds.keys()))))\n",
        "\n",
        "for b in Blues.keys():\n",
        "  m_lagrangian.addConstr(gp.quicksum(z_lagrangian[S] for S in \\\n",
        "                          {Set for Set in AugmentedSets.keys() if b in AugmentedSets[Set]})\\\n",
        "              >= 1)\n",
        "\n",
        "#heuristic lifting sub problem\n",
        "m_lifting = gp.Model()\n",
        "\n",
        "#red element set combinatations where r is in S \n",
        "m_lifting.Params.OutputFlag = 0\n",
        "eta = m_lifting.addVar(name='eta', lb = 0, vtype = GRB.CONTINUOUS)\n",
        "lambd = m_lifting.addVars(AugmentedSets.keys(), name='lambda', vtype = GRB.CONTINUOUS)\n",
        "\n",
        "\n",
        "#Master \n",
        "m = gp.Model()\n",
        "\n",
        "# Create variables\n",
        "x = m.addVars(AugmentedSets.keys(), vtype = GRB.BINARY, name = 'x')\n",
        "theta = m.addVar(obj = 1, name='theta')\n",
        "dummy = m.addVar(obj = 1, vtype = GRB.BINARY, name = 'dummy')\n",
        "\n",
        "for b in Blues.keys():\n",
        "  m.addConstr(gp.quicksum(x[S] for S in \\\n",
        "                          {Set for Set in AugmentedSets.keys() if b in AugmentedSets[Set]})\\\n",
        "              >= 1)\n",
        "for S in x.keys():\n",
        "  x[S].start = xWarm[S]\n",
        "theta.start = len(Reds.keys())\n",
        "# Optimize model\n",
        "m._x = x\n",
        "\n",
        "m.Params.lazyConstraints = 1 # # To be used with lazy constraints\n",
        "m.optimize(BDD)\n",
        "\n",
        "vals = m.getAttr('x', x)\n",
        "\n",
        "print('')\n",
        "print('Optimal x: %s' % str(vals))\n",
        "print('Optimal cost: %g' % m.objVal)\n",
        "print('')"
      ]
    },
    {
      "cell_type": "code",
      "execution_count": 86,
      "metadata": {
        "id": "nfYzSX1S93bs"
      },
      "outputs": [],
      "source": [
        ""
      ]
    }
  ],
  "metadata": {
    "colab": {
      "collapsed_sections": [],
      "name": "Deterministic RBSC _ No Images.ipynb",
      "provenance": [],
      "authorship_tag": "ABX9TyOtqeHylgYoQB2mE68du2SQ",
      "include_colab_link": true
    },
    "kernelspec": {
      "display_name": "Python 3",
      "name": "python3"
    },
    "language_info": {
      "name": "python"
    }
  },
  "nbformat": 4,
  "nbformat_minor": 0
}